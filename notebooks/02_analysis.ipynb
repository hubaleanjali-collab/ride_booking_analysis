{
 "cells": [
  {
   "cell_type": "markdown",
   "id": "6b4e8d45",
   "metadata": {},
   "source": [
    "# 02 — Analysis & Visualizations\n",
    "Descriptive stats, cancellations, behaviors, drivers, and ops metrics."
   ]
  },
  {
   "cell_type": "code",
   "execution_count": null,
   "id": "2757fb4c",
   "metadata": {},
   "outputs": [],
   "source": [
    "import pandas as pd\n",
    "import matplotlib.pyplot as plt\n",
    "from scripts.analysis import (\n",
    "    popular_vehicle_types, avg_distance_and_value, ratings_distribution,\n",
    "    common_cancellation_reasons, frequent_cancellers, cancellations_by_time,\n",
    "    correlation_metrics, vtat_ctat_by_vehicle, peak_demand, booking_status_over_time\n",
    ")\n",
    "\n",
    "df = pd.read_csv(\"data/cleaned_Dataset.csv\")\n",
    "df.head()"
   ]
  },
  {
   "cell_type": "code",
   "execution_count": null,
   "id": "90fadd67",
   "metadata": {},
   "outputs": [],
   "source": [
    "# Popular vehicle types\n",
    "popular_vehicle_types(df)"
   ]
  },
  {
   "cell_type": "code",
   "execution_count": null,
   "id": "f67b17e0",
   "metadata": {},
   "outputs": [],
   "source": [
    "# Average distance & booking value\n",
    "avg_distance_and_value(df)"
   ]
  },
  {
   "cell_type": "code",
   "execution_count": null,
   "id": "a708a041",
   "metadata": {},
   "outputs": [],
   "source": [
    "# Ratings distribution\n",
    "ratings_distribution(df)"
   ]
  },
  {
   "cell_type": "code",
   "execution_count": null,
   "id": "237c49dc",
   "metadata": {},
   "outputs": [],
   "source": [
    "# Common cancellation reasons\n",
    "common_cancellation_reasons(df, who=\"customer\").head(10)"
   ]
  },
  {
   "cell_type": "code",
   "execution_count": null,
   "id": "d51fe5d3",
   "metadata": {},
   "outputs": [],
   "source": [
    "# Frequent cancellers\n",
    "frequent_cancellers(df).head(10)"
   ]
  },
  {
   "cell_type": "code",
   "execution_count": null,
   "id": "13b7105d",
   "metadata": {},
   "outputs": [],
   "source": [
    "# Cancellations by hour (plot)\n",
    "series = cancellations_by_time(df, freq=\"H\")\n",
    "series.plot(title=\"Cancellations by Hour\")\n",
    "plt.xlabel(\"Time\")\n",
    "plt.ylabel(\"Count\")\n",
    "plt.tight_layout()\n",
    "plt.savefig(\"reports/cancellations_by_hour.png\", dpi=150)\n",
    "plt.show()"
   ]
  },
  {
   "cell_type": "code",
   "execution_count": null,
   "id": "475d3711",
   "metadata": {},
   "outputs": [],
   "source": [
    "# Correlation matrix\n",
    "correlation_metrics(df)"
   ]
  },
  {
   "cell_type": "code",
   "execution_count": null,
   "id": "ed5f549d",
   "metadata": {},
   "outputs": [],
   "source": [
    "# VTAT/CTAT by vehicle type\n",
    "vtat_ctat_by_vehicle(df)"
   ]
  },
  {
   "cell_type": "code",
   "execution_count": null,
   "id": "4ecf50d7",
   "metadata": {},
   "outputs": [],
   "source": [
    "# Peak demand by hour (plot)\n",
    "peak = peak_demand(df)\n",
    "peak.plot(kind=\"bar\", title=\"Peak Demand by Hour\")\n",
    "plt.xlabel(\"Hour of Day\")\n",
    "plt.ylabel(\"Bookings\")\n",
    "plt.tight_layout()\n",
    "plt.savefig(\"reports/peak_demand_by_hour.png\", dpi=150)\n",
    "plt.show()"
   ]
  },
  {
   "cell_type": "code",
   "execution_count": null,
   "id": "daa2961c",
   "metadata": {},
   "outputs": [],
   "source": [
    "# Booking status over time (daily)\n",
    "daily = booking_status_over_time(df, freq=\"D\")\n",
    "daily.head()"
   ]
  }
 ],
 "metadata": {},
 "nbformat": 4,
 "nbformat_minor": 5
}
