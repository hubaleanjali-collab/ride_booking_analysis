{
 "cells": [
  {
   "cell_type": "markdown",
   "id": "78fd099b",
   "metadata": {},
   "source": [
    "# 01 — Data Cleaning\n",
    "Load raw data, fix types/categories, handle missing values, and save a cleaned CSV."
   ]
  },
  {
   "cell_type": "code",
   "execution_count": null,
   "id": "8cb92458",
   "metadata": {},
   "outputs": [],
   "source": [
    "import pandas as pd\n",
    "from scripts.data_cleaning import clean_pipeline\n",
    "\n",
    "raw = \"data/Dataset.csv\"          # change if your filename differs\n",
    "out = \"data/cleaned_Dataset.csv\"\n",
    "\n",
    "# Run cleaning pipeline\n",
    "df = clean_pipeline(raw, out)\n",
    "df.head()"
   ]
  },
  {
   "cell_type": "code",
   "execution_count": null,
   "id": "9b3f3a95",
   "metadata": {},
   "outputs": [],
   "source": [
    "# Quick sanity checks\n",
    "df.info()\n",
    "df.describe(include='all').T.head(20)"
   ]
  }
 ],
 "metadata": {},
 "nbformat": 4,
 "nbformat_minor": 5
}
